{
 "cells": [
  {
   "cell_type": "code",
   "execution_count": 1,
   "metadata": {},
   "outputs": [
    {
     "name": "stdout",
     "output_type": "stream",
     "text": [
      "  Unnamed: 0                                              TWEET       STOCK  \\\n",
      "0        0.0  RT @robertoglezcano: @amazon  #Patents Show Fl...         NaN   \n",
      "1        NaN                                             Amazon  31/01/2017   \n",
      "2        1.0  @FAME95FM1 Jamaicans make money with @Payoneer...      PayPal   \n",
      "3        2.0  @CBSi Jamaicans make money with @Payoneer @Pay...      PayPal   \n",
      "4        3.0  @Hitz92fm Jamaicans make money with @Payoneer ...      PayPal   \n",
      "\n",
      "         DATE  LAST_PRICE  1_DAY_RETURN  2_DAY_RETURN  3_DAY_RETURN  \\\n",
      "0         NaN         NaN           NaN           NaN           NaN   \n",
      "1      823.48    0.008379      0.014924      0.014924     -0.001263   \n",
      "2  31/01/2017   39.780000      0.002011      0.012318      0.012318   \n",
      "3  31/01/2017   39.780000      0.002011      0.012318      0.012318   \n",
      "4  31/01/2017   39.780000      0.002011      0.012318      0.012318   \n",
      "\n",
      "   7_DAY_RETURN    PX_VOLUME  VOLATILITY_10D  VOLATILITY_30D LSTM_POLARITY  \\\n",
      "0           NaN          NaN             NaN             NaN           NaN   \n",
      "1  3.137196e+06       13.447          16.992           1.000           0.0   \n",
      "2  5.480141e-02  9100057.000          18.769          16.099          -1.0   \n",
      "3  5.480141e-02  9100057.000          18.769          16.099           1.0   \n",
      "4  5.480141e-02  9100057.000          18.769          16.099          -1.0   \n",
      "\n",
      "  TEXTBLOB_POLARITY  MENTION  \n",
      "0               NaN      NaN  \n",
      "1           @amazon      NaN  \n",
      "2               0.0  @PayPal  \n",
      "3               0.0  @PayPal  \n",
      "4               0.0  @PayPal  \n"
     ]
    }
   ],
   "source": [
    "import pandas as pd\n",
    "\n",
    "# Initialize an empty list to hold the chunks\n",
    "dataframes = []\n",
    "\n",
    "try:\n",
    "    chunk_size = 10000  # Adjust based on your system's memory\n",
    "    # Read the CSV file in chunks\n",
    "    chunks = pd.read_csv(\"d1.csv\", sep=',', low_memory=False, chunksize=chunk_size)\n",
    "    \n",
    "    # Iterate over the chunks and append them to the list\n",
    "    for chunk in chunks:\n",
    "        dataframes.append(chunk)\n",
    "    \n",
    "    # Concatenate all the chunks into a single DataFrame\n",
    "    full_dataframe = pd.concat(dataframes, ignore_index=True)\n",
    "    \n",
    "    # Now you can work with full_dataframe\n",
    "    print(full_dataframe.head())  # Display the first few rows\n",
    "\n",
    "except pd.errors.ParserError as e:\n",
    "    print(f\"ParserError: {e}\")\n",
    "except Exception as e:\n",
    "    print(f\"An error occurred: {e}\")\n"
   ]
  },
  {
   "cell_type": "code",
   "execution_count": 2,
   "metadata": {},
   "outputs": [],
   "source": [
    "full_dataframe = full_dataframe.dropna()"
   ]
  },
  {
   "cell_type": "code",
   "execution_count": 3,
   "metadata": {},
   "outputs": [
    {
     "name": "stdout",
     "output_type": "stream",
     "text": [
      "[-1.  1.]\n"
     ]
    },
    {
     "name": "stderr",
     "output_type": "stream",
     "text": [
      "C:\\Users\\HP\\AppData\\Local\\Temp\\ipykernel_6220\\451382246.py:1: FutureWarning: Downcasting behavior in `replace` is deprecated and will be removed in a future version. To retain the old behavior, explicitly call `result.infer_objects(copy=False)`. To opt-in to the future behavior, set `pd.set_option('future.no_silent_downcasting', True)`\n",
      "  full_dataframe['LSTM_POLARITY'] = full_dataframe['LSTM_POLARITY'].replace({'-1': -1, '-1.0': -1, '1': 1, '1.0': 1})\n"
     ]
    }
   ],
   "source": [
    "full_dataframe['LSTM_POLARITY'] = full_dataframe['LSTM_POLARITY'].replace({'-1': -1, '-1.0': -1, '1': 1, '1.0': 1})\n",
    "polarity_summary = full_dataframe['LSTM_POLARITY'].value_counts()\n",
    "print(full_dataframe['LSTM_POLARITY'].unique())"
   ]
  },
  {
   "cell_type": "code",
   "execution_count": 4,
   "metadata": {},
   "outputs": [
    {
     "name": "stdout",
     "output_type": "stream",
     "text": [
      "STOCK\n",
      "Nike               3797\n",
      "Reuters            2482\n",
      "Apple              2238\n",
      "eBay               2063\n",
      "Netflix            1942\n",
      "                   ... \n",
      "Danone                5\n",
      "21CF                  4\n",
      "Vodafone              4\n",
      "Carrefour             2\n",
      "Cardinal Health       2\n",
      "Name: count, Length: 100, dtype: int64\n"
     ]
    }
   ],
   "source": [
    "stock_summary = full_dataframe['STOCK'].value_counts()\n",
    "\n",
    "# Display the summary\n",
    "print(stock_summary)"
   ]
  },
  {
   "cell_type": "code",
   "execution_count": 5,
   "metadata": {},
   "outputs": [
    {
     "name": "stdout",
     "output_type": "stream",
     "text": [
      "Mean Squared Error for 1_DAY_RETURN: 0.7335\n",
      "Mean Squared Error for 2_DAY_RETURN: 0.6663\n",
      "Mean Squared Error for 3_DAY_RETURN: 0.6403\n",
      "Mean Squared Error for 7_DAY_RETURN: 0.6115\n"
     ]
    }
   ],
   "source": [
    "import pandas as pd\n",
    "import numpy as np\n",
    "from sklearn.model_selection import train_test_split\n",
    "from sklearn.feature_extraction.text import TfidfVectorizer\n",
    "from sklearn.ensemble import RandomForestRegressor\n",
    "from sklearn.metrics import mean_squared_error\n",
    "from sklearn.preprocessing import StandardScaler  # Import StandardScaler for normalization\n",
    "\n",
    "# Assuming full_dataframe is already loaded with your dataset\n",
    "\n",
    "X = full_dataframe['TWEET']\n",
    "y_columns = ['1_DAY_RETURN', '2_DAY_RETURN', '3_DAY_RETURN', '7_DAY_RETURN']\n",
    "\n",
    "# Step 1: Initialize the scaler\n",
    "scaler = StandardScaler()\n",
    "\n",
    "# Step 2: Apply TF-IDF Vectorization\n",
    "tfidf_vectorizer = TfidfVectorizer(max_features=5000)  # Limit to 5000 features\n",
    "X_tfidf = tfidf_vectorizer.fit_transform(X)\n",
    "\n",
    "# Initialize a dictionary to hold the models and their predictions\n",
    "models = {}\n",
    "predictions = {}\n",
    "\n",
    "# Step 3: Train a separate Random Forest Regressor for each return column\n",
    "for col in y_columns:\n",
    "    y = full_dataframe[col].values.reshape(-1, 1)  # Reshape y for scaling\n",
    "    \n",
    "    # Normalize the target variable using StandardScaler\n",
    "    y_scaled = scaler.fit_transform(y).ravel()  # Fit and transform, then flatten to a 1D array\n",
    "\n",
    "    # Split the data into training and testing sets for each return\n",
    "    X_train, X_test, y_train, y_test = train_test_split(X_tfidf, y_scaled, test_size=0.2, random_state=42)\n",
    "\n",
    "    # Train Random Forest Regression Model\n",
    "    rf_regressor = RandomForestRegressor(n_estimators=100, random_state=42)\n",
    "    rf_regressor.fit(X_train, y_train)\n",
    "    \n",
    "    # Make predictions\n",
    "    y_pred = rf_regressor.predict(X_test)\n",
    "    predictions[col] = y_pred\n",
    "    \n",
    "    # Evaluate the model using MSE on the scaled target\n",
    "    mse = mean_squared_error(y_test, y_pred)\n",
    "    models[col] = {'model': rf_regressor, 'mse': mse}\n",
    "\n",
    "# Step 4: Display results\n",
    "for col, result in models.items():\n",
    "    print(f\"Mean Squared Error for {col}: {result['mse']:.4f}\")\n"
   ]
  },
  {
   "cell_type": "code",
   "execution_count": 4,
   "metadata": {},
   "outputs": [
    {
     "data": {
      "image/png": "[encoded data removed]",
      "text/plain": [
       "<Figure size 1000x600 with 1 Axes>"
      ]
     },
     "metadata": {},
     "output_type": "display_data"
    }
   ],
   "source": [
    "import matplotlib.pyplot as plt\n",
    "import numpy as np\n",
    "\n",
    "# Classifier names\n",
    "classifiers = ['SVM', 'Naive Bayes', 'KNN', 'Random Forest', 'BERT']\n",
    "\n",
    "# Our results (AUC scores for SVM, Naive Bayes, KNN)\n",
    "our_results = [88.781, 87.940, 79.111, 0.0, 0.0]  # Set Random Forest and BERT as 0.0 for our results\n",
    "\n",
    "# Results from Saxena et al. and Soni et al.\n",
    "their_results = [86.0, 83.0, 0.0, 92.0, 86.25]  # Set KNN as 0.0 for their results\n",
    "\n",
    "# Create bar positions\n",
    "x = np.arange(len(classifiers))\n",
    "\n",
    "# Set bar width\n",
    "width = 0.35  \n",
    "\n",
    "# Create the plot\n",
    "fig, ax = plt.subplots(figsize=(10, 6))\n",
    "bars1 = ax.bar(x - width/2, our_results, width, label='Our Results', color='blue')\n",
    "bars2 = ax.bar(x + width/2, their_results, width, label='Their Results', color='orange')\n",
    "\n",
    "# Add some text for labels, title, and custom x-axis tick labels, etc.\n",
    "ax.set_xlabel('Classifiers')\n",
    "ax.set_ylabel('AUC Scores (%)')\n",
    "ax.set_title('Comparison of Classifier Performance')\n",
    "ax.set_xticks(x)\n",
    "ax.set_xticklabels(classifiers)\n",
    "ax.legend()\n",
    "\n",
    "# Add value annotations on top of bars\n",
    "def add_value_labels(bars):\n",
    "    for bar in bars:\n",
    "        height = bar.get_height()\n",
    "        ax.annotate(f'{height:.2f}' if height > 0 else '',\n",
    "                    xy=(bar.get_x() + bar.get_width() / 2, height),\n",
    "                    xytext=(0, 3),  # 3 points vertical offset\n",
    "                    textcoords=\"offset points\",\n",
    "                    ha='center', va='bottom')\n",
    "\n",
    "add_value_labels(bars1)\n",
    "add_value_labels(bars2)\n",
    "\n",
    "# Show the plot\n",
    "plt.ylim(0, 100)  # Set limit for better visibility\n",
    "plt.grid(axis='y', linestyle='--', alpha=0.7)\n",
    "plt.tight_layout()\n",
    "plt.show()\n"
   ]
  },
  {
   "cell_type": "code",
   "execution_count": null,
   "metadata": {},
   "outputs": [],
   "source": []
  }
 ],
 "metadata": {
  "kernelspec": {
   "display_name": "Python 3",
   "language": "python",
   "name": "python3"
  },
  "language_info": {
   "codemirror_mode": {
    "name": "ipython",
    "version": 3
   },
   "file_extension": ".py",
   "mimetype": "text/x-python",
   "name": "python",
   "nbconvert_exporter": "python",
   "pygments_lexer": "ipython3",
   "version": "3.12.0"
  }
 },
 "nbformat": 4,
 "nbformat_minor": 2
}
